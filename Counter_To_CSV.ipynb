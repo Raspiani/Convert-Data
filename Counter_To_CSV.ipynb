{
 "cells": [
  {
   "cell_type": "markdown",
   "metadata": {},
   "source": [
    "## Counter_To_CSV\n",
    "\n",
    "    Cara menyimpan data dari data dengan bentuk res (dibawah ini) menjadi bentuk csv file.\n",
    "\n",
    "    res = [{'date': '2015/01/01 00:00', 'v': 96.5}, \n",
    "          {'date': '2015/01/01 00:01', 'v': 97.0}, \n",
    "          {'date': '2015/01/01 00:02', 'v': 93.75}, \n",
    "          {'date': '2015/01/01 00:03', 'v': 96.0}, \n",
    "          {'date': '2015/01/01 00:04', 'v': 94.5}]"
   ]
  },
  {
   "cell_type": "code",
   "execution_count": 2,
   "metadata": {},
   "outputs": [],
   "source": [
    "import csv\n",
    "\n",
    "res =[{'date': '2015/01/01 00:00', 'v': 96.5}, \n",
    "      {'date': '2015/01/01 00:01', 'v': 97.0}, \n",
    "      {'date': '2015/01/01 00:02', 'v': 93.75}, \n",
    "      {'date': '2015/01/01 00:03', 'v': 96.0}, \n",
    "      {'date': '2015/01/01 00:04', 'v': 94.5}]\n",
    "csvfile = \"example.csv\"\n",
    "\n",
    "with open(csvfile, \"w\") as output:\n",
    "    writer= csv.writer(output, lineterminator='\\n')\n",
    "    for line in res:\n",
    "        date = line['date']\n",
    "        value = line['v']\n",
    "        writer.writerow([date, value])"
   ]
  },
  {
   "cell_type": "markdown",
   "metadata": {},
   "source": [
    "                    ##Semoga Bermanfaat\n",
    "                    ##@Raspiani_"
   ]
  }
 ],
 "metadata": {
  "kernelspec": {
   "display_name": "Python 3",
   "language": "python",
   "name": "python3"
  },
  "language_info": {
   "codemirror_mode": {
    "name": "ipython",
    "version": 3
   },
   "file_extension": ".py",
   "mimetype": "text/x-python",
   "name": "python",
   "nbconvert_exporter": "python",
   "pygments_lexer": "ipython3",
   "version": "3.6.5"
  }
 },
 "nbformat": 4,
 "nbformat_minor": 2
}
